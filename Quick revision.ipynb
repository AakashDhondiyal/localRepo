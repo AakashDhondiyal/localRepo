{
 "cells": [
  {
   "cell_type": "markdown",
   "metadata": {},
   "source": [
    "#### Let's quickly revise our basics\n",
    "\n",
    ">Python is one of the most readable programming languages,making it great for beginners.<br>Its is also widely used by both big companies and startups alike\n",
    "\n",
    "#### Topics to cover in this section\n",
    "\n",
    ">- Printing\n",
    ">- Data types\n",
    ">- Variables\n",
    ">- Logic & conditionals\n",
    ">- Lists\n",
    ">- Dictonaries\n",
    ">- Classes\n",
    ">- Loops"
   ]
  },
  {
   "cell_type": "markdown",
   "metadata": {},
   "source": [
    "Let's replace <B>?</B> with <B>\"Hello and welcome to the class of Python!\"</B> and <B>hit</B> <B><font color = magenta>\"ctrl + enter\"</font></B>"
   ]
  },
  {
   "cell_type": "markdown",
   "metadata": {},
   "source": [
    "print(?)"
   ]
  },
  {
   "cell_type": "markdown",
   "metadata": {},
   "source": [
    "The <B>console</B> Display whatever you put inside <B><font color = magenta>print()</font></B>. The <B>console</B> here is like the <B>command line</B> or <B>Terminal</B> on your computer\n",
    "We can even print multiple things at once!"
   ]
  },
  {
   "cell_type": "code",
   "execution_count": null,
   "metadata": {},
   "outputs": [],
   "source": [
    "print(\"First Thing\")\n",
    "print(\"second Thing\")"
   ]
  },
  {
   "cell_type": "markdown",
   "metadata": {},
   "source": [
    "Function <B><font color = magenta>print</font></B> display things to the console.<br>\n",
    "Can you order these print() statements to match the correct output?<br>\n",
    "Correct Output:<br>\n",
    "I know a<br>\n",
    "freaking tall guy.<br>\n",
    "His name is<br>\n",
    "Aakash (just kidding)!"
   ]
  },
  {
   "cell_type": "code",
   "execution_count": null,
   "metadata": {},
   "outputs": [],
   "source": [
    "print(\"Aakash (just kidding)!\") # 1\n",
    "print(\"I know a\") # 2\n",
    "print(\"His name is\") # 3\n",
    "print(\"freaking tall person\") # 4"
   ]
  },
  {
   "cell_type": "code",
   "execution_count": null,
   "metadata": {},
   "outputs": [],
   "source": [
    "# String"
   ]
  },
  {
   "cell_type": "markdown",
   "metadata": {},
   "source": [
    "When we put text inside <B>quotes(',\",''',\"\"\")</B> in Python, we create <B>string!</B><br>\n",
    "We can also <B>combine</B> strings by <B>adding</B> them together."
   ]
  },
  {
   "cell_type": "code",
   "execution_count": null,
   "metadata": {},
   "outputs": [],
   "source": [
    "print(\"Text A\" + \"Text B\")"
   ]
  },
  {
   "cell_type": "markdown",
   "metadata": {},
   "source": [
    "Python doesn't add any <B>whitespaces</B> when we <B>combine</B> strings.<br>\n",
    "We have to add it ourselves!<br> \n",
    "And again if its only about printing them seperately then we can use print function <B>arguments</B>"
   ]
  },
  {
   "cell_type": "code",
   "execution_count": null,
   "metadata": {},
   "outputs": [],
   "source": [
    "print(\"Text A\" + \" \" + \"Text B\")\n",
    "print(\"Text A\",\"Text B\",sep = ' ') # sep is seperator, check shift+tab you will see more arguments, default sep value is space"
   ]
  },
  {
   "cell_type": "markdown",
   "metadata": {},
   "source": [
    "At times, you need wanna know the <B>numbers of characters</B> in a string.<br>\n",
    "We can use the <B>function</B> <font color = magenta>len()</font> for this."
   ]
  },
  {
   "cell_type": "code",
   "execution_count": null,
   "metadata": {},
   "outputs": [],
   "source": [
    "print(len(\"abc\"))"
   ]
  },
  {
   "cell_type": "markdown",
   "metadata": {},
   "source": [
    "What will this program output?"
   ]
  },
  {
   "cell_type": "code",
   "execution_count": null,
   "metadata": {},
   "outputs": [],
   "source": [
    "print(len(\"Aakash\" + \" Dhondiyal!\")) # we can also add white space at the begining or end of string"
   ]
  },
  {
   "cell_type": "code",
   "execution_count": null,
   "metadata": {},
   "outputs": [],
   "source": [
    "# Variables"
   ]
  },
  {
   "cell_type": "markdown",
   "metadata": {},
   "source": [
    "<B>Variables</B> let us store <B>values</B> in a name. Then we can use the name later to refer to the <B>value</B>."
   ]
  },
  {
   "cell_type": "code",
   "execution_count": null,
   "metadata": {},
   "outputs": [],
   "source": [
    "student = \"Aakash\"\n",
    "print(?) # What should we use to replace ? here!"
   ]
  },
  {
   "cell_type": "markdown",
   "metadata": {},
   "source": [
    "Try setting variable <font color = magenta>student</font> equal to <B>yourname</B> as value."
   ]
  },
  {
   "cell_type": "code",
   "execution_count": null,
   "metadata": {},
   "outputs": [],
   "source": [
    "? = ? # replace ? marks with correct entries\n",
    "print(student)"
   ]
  },
  {
   "cell_type": "markdown",
   "metadata": {},
   "source": [
    "Like we have done before, can we also combine two string type variables. To get data type we have type() function"
   ]
  },
  {
   "cell_type": "code",
   "execution_count": null,
   "metadata": {},
   "outputs": [],
   "source": [
    "# Assigning variables\n",
    "student_fname = 'Aakash'\n",
    "student_lname = \"Dhondiyal\"\n",
    "\n",
    "# Printing type of the variables\n",
    "print(type(student_fname))\n",
    "print(type(student_lname))\n",
    "\n",
    "# Printing names\n",
    "print(student_fname + student_lname)"
   ]
  },
  {
   "cell_type": "markdown",
   "metadata": {},
   "source": [
    "Gradually it is taking shape, set of instructions that have a purpose. Isn't it something expected out of us(context standard programing).<br> \n",
    "Appears logical, line 1 executed first followed by line 2 and so on..<br>\n",
    "\n",
    "Can you recall the defination of Program(context computing)?<Br>\n",
    ">A program is a set of instructions that a computer follows in order to perform a particular task.<br>\n",
    "\n",
    "Can you recall the defination of Script language?<Br>\n",
    ">In computer programming, a script is a program or sequence of instructions that is interpreted <br>\n",
    ">or carried out by another program rather than by the computer processor (as a compiled program is)."
   ]
  },
  {
   "cell_type": "markdown",
   "metadata": {},
   "source": [
    "<B>Rules of variable:</B>\n",
    "- We have to be careful to never use a variable before we define it<br>\n",
    "- We have to be careful to account for the naming convension<br>\n",
    "- We have to be careful to reserved keywords"
   ]
  },
  {
   "cell_type": "code",
   "execution_count": null,
   "metadata": {},
   "outputs": [],
   "source": [
    "print(name)\n",
    "name = \"Aakash Dhondiyal\""
   ]
  },
  {
   "cell_type": "code",
   "execution_count": null,
   "metadata": {},
   "outputs": [],
   "source": [
    "1stname = \"Aakash\"\n",
    "print(1stname)"
   ]
  },
  {
   "cell_type": "code",
   "execution_count": null,
   "metadata": {},
   "outputs": [],
   "source": [
    "class = \"Python\"\n",
    "print(class)"
   ]
  },
  {
   "cell_type": "markdown",
   "metadata": {},
   "source": [
    "Memory allocation in C langage vs python<Br>\n",
    "<img src=\"C:/Users/admin/Desktop/localRepo/variable-assignment.png\">"
   ]
  },
  {
   "cell_type": "code",
   "execution_count": null,
   "metadata": {},
   "outputs": [],
   "source": [
    "a = 10\n",
    "b = 10\n",
    "c = 10\n",
    "print(id(a), id(b), id(c), sep=',')\n",
    "a += 1\n",
    "print(id(a), id(b), id(c), sep=',')\n",
    "\n"
   ]
  },
  {
   "cell_type": "markdown",
   "metadata": {},
   "source": [
    "Note:<Br>\n",
    "CPython optimization <Br>\n",
    "CPython implementation keeps an array of integer objects for all integers between -5 and 256. <Br>\n",
    "Long strings or objects outbound of range(above) will have different id() for same values. <Br> \n",
    "This is called interning, and Python does interning (to some extent) of shorter string literals. <Br>\n",
    "There's a built-in intern() function to forcefully apply interning unless you are overiding the behavior.<br>"
   ]
  },
  {
   "cell_type": "raw",
   "metadata": {},
   "source": [
    "class oo:\n",
    "    pass\n",
    "\n",
    "oo1 = oo()\n",
    "oo2 = oo()\n",
    "print(id(oo1), id(oo2))\n",
    "\n",
    "\n",
    "list_oo = [oo()] * 10\n",
    "[print(id(i)) for i in list_oo] # This is a potential example of Singleton Pattern which overrides this behaviour"
   ]
  },
  {
   "cell_type": "code",
   "execution_count": null,
   "metadata": {},
   "outputs": [],
   "source": []
  }
 ],
 "metadata": {
  "kernelspec": {
   "display_name": "Python 3",
   "language": "python",
   "name": "python3"
  },
  "language_info": {
   "codemirror_mode": {
    "name": "ipython",
    "version": 3
   },
   "file_extension": ".py",
   "mimetype": "text/x-python",
   "name": "python",
   "nbconvert_exporter": "python",
   "pygments_lexer": "ipython3",
   "version": "3.6.2"
  }
 },
 "nbformat": 4,
 "nbformat_minor": 2
}
